{
 "cells": [
  {
   "cell_type": "code",
   "execution_count": 95,
   "id": "14438304",
   "metadata": {},
   "outputs": [
    {
     "name": "stdout",
     "output_type": "stream",
     "text": [
      "{'100': 42805, '010': 21338, '110': 21122, '101': 12601, '001': 2134}\n"
     ]
    },
    {
     "data": {
      "image/png": "[encoded data removed]",
      "text/plain": [
       "<Figure size 640x480 with 1 Axes>"
      ]
     },
     "metadata": {},
     "output_type": "display_data"
    },
    {
     "data": {
      "text/plain": [
       "None"
      ]
     },
     "metadata": {},
     "output_type": "display_data"
    },
    {
     "name": "stdout",
     "output_type": "stream",
     "text": [
      "000 + 001 = 100\n"
     ]
    }
   ],
   "source": [
    "from qiskit import QuantumCircuit, QuantumRegister, ClassicalRegister, transpile, qasm\n",
    "from qiskit.circuit.library.standard_gates import XGate, HGate, SGate, TGate, ZGate, TdgGate, SdgGate\n",
    "from qiskit_aer import Aer\n",
    "from qiskit.visualization import plot_histogram\n",
    "import matplotlib.pyplot as plt\n",
    "import math\n",
    "\n",
    "\n",
    "def QFT_Adder(a,b):\n",
    "    qa = QuantumRegister(3,name= \"x\")\n",
    "    qb = QuantumRegister(3,name= \"b\")\n",
    "    y = ClassicalRegister(3, name='y')\n",
    "    qc = QuantumCircuit(qb,qa,y)\n",
    "\n",
    "#print(a[2])\n",
    "\n",
    "    if b[0] == \"1\":\n",
    "        qc.append(XGate(), [qb[2]])\n",
    "    if b[1] == \"1\":\n",
    "        qc.append(XGate(), [qb[1]])\n",
    "    if b[2] == \"1\":\n",
    "        qc.append(XGate(), [qb[0]])\n",
    "\n",
    "    if a[0] == \"1\":\n",
    "        qc.append(XGate(), [qa[2]])\n",
    "    if a[1] == \"1\":\n",
    "        qc.append(XGate(), [qa[1]])\n",
    "    if a[2] == \"1\":\n",
    "        qc.append(XGate(), [qa[0]])\n",
    "\n",
    "    \n",
    "    Controlled_Z_Gate = ZGate().control(1)\n",
    "    Controlled_S_Gate = SGate().control(1)\n",
    "    Controlled_T_Gate = TGate().control(1)\n",
    "    Controlled_Tdg_Gate = TdgGate().control(1)\n",
    "    Controlled_Sdg_Gate = SdgGate().control(1)\n",
    "\n",
    "#y[0]\n",
    "    qc.append(HGate(),[qa[2]])\n",
    "    qc.append(Controlled_S_Gate, [qa[1],qa[2]])\n",
    "    qc.append(Controlled_T_Gate, [qa[0],qa[2]])\n",
    "\n",
    "#y[1]\n",
    "    qc.append(HGate(),[qa[1]])\n",
    "    qc.append(Controlled_S_Gate, [qa[0],qa[1]])\n",
    "\n",
    "#y[2]\n",
    "    qc.append(HGate(),[qa[0]])\n",
    "    #swapping y0 and y2\n",
    "    qc.swap(qa[0],qa[2])\n",
    "#addition\n",
    "    qc.append(Controlled_Z_Gate,[qb[2],qa[2]])\n",
    "    qc.append(Controlled_S_Gate,[qb[1],qa[2]])\n",
    "    #qc.append(Controlled_S_Gate,[qa[1],qa[2]])\n",
    "    qc.append(Controlled_T_Gate,[qb[0],qa[2]])\n",
    "    #qc.append(Controlled_T_Gate,[qa[0],qa[2]])\n",
    "\n",
    "\n",
    "    qc.append(Controlled_Z_Gate,[qb[1],qa[1]])\n",
    "    qc.append(Controlled_S_Gate,[qb[0],qa[1]])\n",
    "    #qc.append(Controlled_S_Gate,[qa[0],qa[1]])\n",
    "\n",
    "    qc.append(Controlled_Z_Gate,[qb[0],qa[0]])\n",
    "    qc.swap(qa[0],qa[2])\n",
    "\n",
    "#IQFT\n",
    "#y[2]\n",
    "    qc.append(HGate(),[qa[0]])\n",
    "#y[1]\n",
    "    qc.append(Controlled_Sdg_Gate, [qa[0],qa[1]])\n",
    "    qc.append(HGate(),[qa[1]])\n",
    "#y[0]\n",
    "    qc.append(Controlled_Sdg_Gate, [qa[1],qa[2]])\n",
    "    qc.append(Controlled_Tdg_Gate, [qa[0],qa[2]])\n",
    "    qc.append(HGate(),[qa[2]])\n",
    "\n",
    "\n",
    "    #qc.swap(qa[2],qa[0])\n",
    "\n",
    "    qc.measure(qa[0], y[0])  \n",
    "    qc.measure(qa[1], y[1])\n",
    "    qc.measure(qa[2], y[2])\n",
    "\n",
    "    #display(qc.draw('mpl'))\n",
    "\n",
    "    simulator = Aer.get_backend('qasm_simulator')\n",
    "    compiled_circuit = transpile(qc, simulator)\n",
    "    result = simulator.run(compiled_circuit, shots=100000).result()\n",
    "    counts = result.get_counts()\n",
    "    return counts\n",
    "\n",
    "\n",
    "a = \"000\"\n",
    "b = \"001\"\n",
    "counts = QFT_Adder(a,b)\n",
    "print(counts)\n",
    "display(plot_histogram(counts))\n",
    "display(plt.show())\n",
    "largest_value = 0\n",
    "for key, value in counts.items():\n",
    "    if value > largest_value:\n",
    "        largest_value = value\n",
    "        largest_key = key\n",
    "print(a,\"+\",b,\"=\",largest_key)"
   ]
  },
  {
   "cell_type": "code",
   "execution_count": 96,
   "id": "9e7f3a41",
   "metadata": {},
   "outputs": [
    {
     "name": "stdout",
     "output_type": "stream",
     "text": [
      "000 + 000 = 000\n",
      "000 + 001 = 100\n",
      "000 + 010 = 110\n",
      "000 + 011 = 011\n",
      "000 + 100 = 111\n",
      "000 + 101 = 101\n",
      "000 + 110 = 110\n",
      "000 + 111 = 100\n",
      "001 + 000 = 001\n",
      "001 + 001 = 101\n",
      "001 + 010 = 111\n",
      "001 + 011 = 100\n",
      "001 + 100 = 000\n",
      "001 + 101 = 110\n",
      "001 + 110 = 111\n",
      "001 + 111 = 101\n",
      "010 + 000 = 010\n",
      "010 + 001 = 110\n",
      "010 + 010 = 100\n",
      "010 + 011 = 101\n",
      "010 + 100 = 011\n",
      "010 + 101 = 111\n",
      "010 + 110 = 100\n",
      "010 + 111 = 110\n",
      "011 + 000 = 011\n",
      "011 + 001 = 111\n",
      "011 + 010 = 101\n",
      "011 + 011 = 110\n",
      "011 + 100 = 010\n",
      "011 + 101 = 000\n",
      "011 + 110 = 101\n",
      "011 + 111 = 111\n",
      "100 + 000 = 100\n",
      "100 + 001 = 000\n",
      "100 + 010 = 010\n",
      "100 + 011 = 111\n",
      "100 + 100 = 011\n",
      "100 + 101 = 001\n",
      "100 + 110 = 010\n",
      "100 + 111 = 000\n",
      "101 + 000 = 101\n",
      "101 + 001 = 001\n",
      "101 + 010 = 011\n",
      "101 + 011 = 000\n",
      "101 + 100 = 100\n",
      "101 + 101 = 010\n",
      "101 + 110 = 011\n",
      "101 + 111 = 001\n",
      "110 + 000 = 110\n",
      "110 + 001 = 010\n",
      "110 + 010 = 100\n",
      "110 + 011 = 001\n",
      "110 + 100 = 111\n",
      "110 + 101 = 011\n",
      "110 + 110 = 000\n",
      "110 + 111 = 010\n",
      "111 + 000 = 111\n",
      "111 + 001 = 011\n",
      "111 + 010 = 101\n",
      "111 + 011 = 010\n",
      "111 + 100 = 000\n",
      "111 + 101 = 100\n",
      "111 + 110 = 101\n",
      "111 + 111 = 011\n"
     ]
    }
   ],
   "source": [
    "a_list = [\"000\",'001',\"010\",\"011\",\"100\",\"101\",\"110\",\"111\"]\n",
    "b_list = [\"000\",'001',\"010\",\"011\",\"100\",\"101\",\"110\",\"111\"]\n",
    "for a in a_list:\n",
    "    for b in b_list:\n",
    "        counts = QFT_Adder(a,b)\n",
    "        #print(counts)\n",
    "        #display(plot_histogram(counts))\n",
    "        #display(plt.show())\n",
    "        largest_value = 0\n",
    "        for key, value in counts.items():\n",
    "            if value > largest_value:\n",
    "                largest_value = value\n",
    "                largest_key = key\n",
    "        print(a,\"+\",b,\"=\",largest_key)"
   ]
  },
  {
   "cell_type": "code",
   "execution_count": 86,
   "id": "0bcab12f",
   "metadata": {},
   "outputs": [
    {
     "data": {
      "text/html": [
       "<pre style=\"word-wrap: normal;white-space: pre;background: #fff0;line-height: 1.1;font-family: &quot;Courier New&quot;,Courier,monospace\">                              ┌───┐   \n",
       "x_0: ────────────■─────────■──┤ H ├─X─\n",
       "                 │  ┌───┐┌─┴─┐└───┘ │ \n",
       "x_1: ───────■────┼──┤ H ├┤ S ├──────┼─\n",
       "     ┌───┐┌─┴─┐┌─┴─┐└───┘└───┘      │ \n",
       "x_2: ┤ H ├┤ S ├┤ T ├────────────────X─\n",
       "     └───┘└───┘└───┘                  </pre>"
      ],
      "text/plain": [
       "                              ┌───┐   \n",
       "x_0: ────────────■─────────■──┤ H ├─X─\n",
       "                 │  ┌───┐┌─┴─┐└───┘ │ \n",
       "x_1: ───────■────┼──┤ H ├┤ S ├──────┼─\n",
       "     ┌───┐┌─┴─┐┌─┴─┐└───┘└───┘      │ \n",
       "x_2: ┤ H ├┤ S ├┤ T ├────────────────X─\n",
       "     └───┘└───┘└───┘                  "
      ]
     },
     "metadata": {},
     "output_type": "display_data"
    }
   ],
   "source": [
    "qa = QuantumRegister(3,name= \"x\")\n",
    "qc = QuantumCircuit(qa)\n",
    "\n",
    "    \n",
    "Controlled_Z_Gate = ZGate().control(1)\n",
    "Controlled_S_Gate = SGate().control(1)\n",
    "Controlled_T_Gate = TGate().control(1)\n",
    "Controlled_Tdg_Gate = TdgGate().control(1)\n",
    "Controlled_Sdg_Gate = SdgGate().control(1)\n",
    "\n",
    "#y[0]\n",
    "qc.append(HGate(),[qa[2]])\n",
    "qc.append(Controlled_S_Gate, [qa[1],qa[2]])\n",
    "qc.append(Controlled_T_Gate, [qa[0],qa[2]])\n",
    "\n",
    "#y[1]\n",
    "qc.append(HGate(),[qa[1]])\n",
    "qc.append(Controlled_S_Gate, [qa[0],qa[1]])\n",
    "\n",
    "#y[2]\n",
    "qc.append(HGate(),[qa[0]])\n",
    "qc.swap(qa[0],qa[2])\n",
    "\n",
    "display(qc.draw())"
   ]
  },
  {
   "cell_type": "code",
   "execution_count": 88,
   "id": "f18b9ab6",
   "metadata": {},
   "outputs": [
    {
     "data": {
      "image/png": "[encoded data removed]",
      "text/plain": [
       "<Figure size 620.739x284.278 with 1 Axes>"
      ]
     },
     "metadata": {},
     "output_type": "display_data"
    },
    {
     "data": {
      "text/html": [
       "<pre style=\"word-wrap: normal;white-space: pre;background: #fff0;line-height: 1.1;font-family: &quot;Courier New&quot;,Courier,monospace\">     ┌───┐                               \n",
       "x_0: ┤ H ├───■──────────────────■────────\n",
       "     └───┘┌──┴──┐┌───┐          │        \n",
       "x_1: ─────┤ Sdg ├┤ H ├───■──────┼────────\n",
       "          └─────┘└───┘┌──┴──┐┌──┴──┐┌───┐\n",
       "x_2: ─────────────────┤ Sdg ├┤ Tdg ├┤ H ├\n",
       "                      └─────┘└─────┘└───┘</pre>"
      ],
      "text/plain": [
       "     ┌───┐                               \n",
       "x_0: ┤ H ├───■──────────────────■────────\n",
       "     └───┘┌──┴──┐┌───┐          │        \n",
       "x_1: ─────┤ Sdg ├┤ H ├───■──────┼────────\n",
       "          └─────┘└───┘┌──┴──┐┌──┴──┐┌───┐\n",
       "x_2: ─────────────────┤ Sdg ├┤ Tdg ├┤ H ├\n",
       "                      └─────┘└─────┘└───┘"
      ]
     },
     "metadata": {},
     "output_type": "display_data"
    }
   ],
   "source": [
    "qa = QuantumRegister(3,name= \"x\")\n",
    "qc = QuantumCircuit(qa) \n",
    "Controlled_Z_Gate = ZGate().control(1)\n",
    "Controlled_S_Gate = SGate().control(1)\n",
    "Controlled_T_Gate = TGate().control(1)\n",
    "Controlled_Tdg_Gate = TdgGate().control(1)\n",
    "Controlled_Sdg_Gate = SdgGate().control(1)\n",
    "\n",
    "#y[2]\n",
    "qc.append(HGate(),[qa[0]])\n",
    "#y[1]\n",
    "qc.append(Controlled_Sdg_Gate, [qa[0],qa[1]])\n",
    "qc.append(HGate(),[qa[1]])\n",
    "#y[0]\n",
    "qc.append(Controlled_Sdg_Gate, [qa[1],qa[2]])\n",
    "qc.append(Controlled_Tdg_Gate, [qa[0],qa[2]])\n",
    "qc.append(HGate(),[qa[2]])\n",
    "\n",
    "display(qc.draw('mpl'))\n",
    "display(qc.draw())"
   ]
  },
  {
   "cell_type": "code",
   "execution_count": null,
   "id": "c8812c06",
   "metadata": {},
   "outputs": [],
   "source": []
  }
 ],
 "metadata": {
  "kernelspec": {
   "display_name": "Python 3 (ipykernel)",
   "language": "python",
   "name": "python3"
  },
  "language_info": {
   "codemirror_mode": {
    "name": "ipython",
    "version": 3
   },
   "file_extension": ".py",
   "mimetype": "text/x-python",
   "name": "python",
   "nbconvert_exporter": "python",
   "pygments_lexer": "ipython3",
   "version": "3.9.13"
  }
 },
 "nbformat": 4,
 "nbformat_minor": 5
}
