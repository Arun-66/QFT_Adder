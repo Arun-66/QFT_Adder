{
 "cells": [
  {
   "cell_type": "code",
   "execution_count": 4,
   "id": "270d11fb",
   "metadata": {},
   "outputs": [
    {
     "name": "stdout",
     "output_type": "stream",
     "text": [
      "State before QFT: Statevector([0.+0.j, 1.+0.j, 0.+0.j, 0.+0.j],\n",
      "            dims=(2, 2))\n",
      "State after QFT: Statevector([ 5.000000e-01+0.j ,  3.061617e-17+0.5j, -5.000000e-01+0.j ,\n",
      "             -3.061617e-17-0.5j],\n",
      "            dims=(2, 2))\n"
     ]
    },
    {
     "data": {
      "image/png": "[encoded data removed]",
      "text/plain": [
       "<Figure size 287.294x200.667 with 1 Axes>"
      ]
     },
     "execution_count": 4,
     "metadata": {},
     "output_type": "execute_result"
    }
   ],
   "source": [
    "from qiskit import QuantumCircuit\n",
    "from qiskit.circuit.library import QFT\n",
    "from qiskit.quantum_info import Statevector\n",
    "from qiskit_aer import Aer\n",
    "# Create a 2-qubit QFT circuit\n",
    "n_qubits = 2\n",
    "qc = QuantumCircuit(n_qubits)\n",
    "\n",
    "# Prepare input state |01>\n",
    "qc.x(0)\n",
    "\n",
    "# Display the state before QFT\n",
    "state_before = Statevector.from_instruction(qc)\n",
    "print(\"State before QFT:\", state_before)\n",
    "\n",
    "# Apply QFT\n",
    "qft = QFT(n_qubits)\n",
    "qc.append(qft, range(n_qubits))\n",
    "\n",
    "# Display the state after QFT\n",
    "state_after = Statevector.from_instruction(qc)\n",
    "print(\"State after QFT:\", state_after)\n",
    "\n",
    "qc.draw('mpl')\n"
   ]
  },
  {
   "cell_type": "code",
   "execution_count": null,
   "id": "30795fe7",
   "metadata": {},
   "outputs": [],
   "source": []
  }
 ],
 "metadata": {
  "kernelspec": {
   "display_name": "Python 3 (ipykernel)",
   "language": "python",
   "name": "python3"
  },
  "language_info": {
   "codemirror_mode": {
    "name": "ipython",
    "version": 3
   },
   "file_extension": ".py",
   "mimetype": "text/x-python",
   "name": "python",
   "nbconvert_exporter": "python",
   "pygments_lexer": "ipython3",
   "version": "3.9.13"
  }
 },
 "nbformat": 4,
 "nbformat_minor": 5
}
